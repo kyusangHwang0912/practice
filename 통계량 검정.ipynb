{
 "cells": [
  {
   "cell_type": "markdown",
   "metadata": {},
   "source": [
    "### 정규성, 등분산성 확인"
   ]
  },
  {
   "cell_type": "code",
   "execution_count": 149,
   "metadata": {},
   "outputs": [],
   "source": [
    "# 정규성\n",
    "import numpy as np\n",
    "import scipy as sp\n",
    "from scipy import stats\n",
    "from scipy.stats import kstest, norm, shapiro, jarque_bera, bartlett, fligner, levene\n",
    "import pandas as pd\n",
    "import seaborn as sns"
   ]
  },
  {
   "cell_type": "code",
   "execution_count": 75,
   "metadata": {},
   "outputs": [
    {
     "data": {
      "text/plain": [
       "KstestResult(statistic=0.01686233894525574, pvalue=0.9340007574542049)"
      ]
     },
     "execution_count": 75,
     "metadata": {},
     "output_type": "execute_result"
    }
   ],
   "source": [
    "from scipy.stats import kstest,norm\n",
    "\n",
    "data = norm.rvs(size = 1000)\n",
    "kstest(data, 'norm')"
   ]
  },
  {
   "cell_type": "code",
   "execution_count": 88,
   "metadata": {},
   "outputs": [
    {
     "data": {
      "text/plain": [
       "ShapiroResult(statistic=0.9748116135597229, pvalue=0.5036677718162537)"
      ]
     },
     "execution_count": 88,
     "metadata": {},
     "output_type": "execute_result"
    }
   ],
   "source": [
    "from scipy.stats import norm, shapiro\n",
    "\n",
    "data = norm.rvs(size=40)\n",
    "shapiro(data)"
   ]
  },
  {
   "cell_type": "code",
   "execution_count": 89,
   "metadata": {},
   "outputs": [
    {
     "data": {
      "text/plain": [
       "array([ 1.30560827,  1.49915449, -1.40220382,  0.73756042,  0.43399908,\n",
       "       -0.88294512,  1.22444993, -0.24063786,  0.03295534, -1.14588942,\n",
       "       -0.13907971,  0.75519763,  1.39717787,  0.85624309,  0.25932696,\n",
       "       -1.28570288, -2.68217514, -0.52537156,  0.45552515, -0.40015443,\n",
       "       -0.39077411,  0.11127161,  0.12865221,  0.1679172 , -1.52752322,\n",
       "        0.2818852 , -0.88713038, -0.02489156, -0.42570102,  0.22245221,\n",
       "        1.39402092, -0.35136532,  0.34055795, -1.22389631, -0.76958274,\n",
       "        0.225733  , -2.05501775, -1.33306247, -0.50478065,  0.15334381])"
      ]
     },
     "execution_count": 89,
     "metadata": {},
     "output_type": "execute_result"
    }
   ],
   "source": [
    "data"
   ]
  },
  {
   "cell_type": "code",
   "execution_count": 42,
   "metadata": {},
   "outputs": [
    {
     "name": "stdout",
     "output_type": "stream",
     "text": [
      "BartlettResult(statistic=0.05387296931411971, pvalue=0.8164560627928433)\n",
      "FlignerResult(statistic=0.271365492595865, pvalue=0.6024172558183811)\n",
      "LeveneResult(statistic=0.05275571002979154, pvalue=0.8210765257077993)\n"
     ]
    }
   ],
   "source": [
    "# 등분산성\n",
    "from scipy.stats import bartlett, fligner, levene\n",
    "\n",
    "data = np.arange(1,100,10)\n",
    "data2 = np.arange(1,100,12)\n",
    "\n",
    "print(bartlett(data,data2))\n",
    "print(fligner(data,data2))\n",
    "print(levene(data,data2))"
   ]
  },
  {
   "cell_type": "markdown",
   "metadata": {},
   "source": [
    "### 단일표본 t검정"
   ]
  },
  {
   "cell_type": "code",
   "execution_count": 69,
   "metadata": {},
   "outputs": [
    {
     "name": "stdout",
     "output_type": "stream",
     "text": [
      "177.54000000000002\n",
      "Ttest_1sampResult(statistic=5.4492550531541735, pvalue=0.005509200401916088)\n",
      "Ttest_1sampResult(statistic=8.82993977952728e-15, pvalue=0.9999999999999933)\n"
     ]
    }
   ],
   "source": [
    "# 일표본 t-검정\n",
    "import numpy as np\n",
    "import scipy as sp\n",
    "from scipy import stats\n",
    "one_sample = [170.0, 180.0, 188.7, 173.7, 175.3]\n",
    "\n",
    "result1 = stats.ttest_1samp(one_sample,popmean = 160)\n",
    "result2 = stats.ttest_1samp(one_sample,popmean= 177.54)\n",
    "\n",
    "print(np.mean(one_sample))\n",
    "print(result1)\n",
    "print(result2)\n",
    "\n"
   ]
  },
  {
   "cell_type": "markdown",
   "metadata": {},
   "source": [
    "### wilcoxon(단일표본)"
   ]
  },
  {
   "cell_type": "code",
   "execution_count": 193,
   "metadata": {},
   "outputs": [
    {
     "name": "stdout",
     "output_type": "stream",
     "text": [
      "   time  gender  weight  minutes\n",
      "0     5       1    3837        5\n",
      "1   104       1    3334       64\n",
      "2   118       2    3554       78\n",
      "3   155       2    3838      115\n",
      "4   257       2    3625      177\n",
      "            weight\n",
      "count    18.000000\n",
      "mean   3132.444444\n",
      "std     631.582534\n",
      "min    1745.000000\n",
      "25%    2711.000000\n",
      "50%    3381.000000\n",
      "75%    3517.250000\n",
      "max    3866.000000\n"
     ]
    }
   ],
   "source": [
    "import pandas as pd\n",
    "data = pd.read_csv(\"https://raw.githubusercontent.com/wjddyd66/R/master/Data/babyboom.csv\")\n",
    "print(data.head())\n",
    "girl_data = data[data['gender']==1]\n",
    "print(girl_data[['weight']].describe())"
   ]
  },
  {
   "cell_type": "code",
   "execution_count": 194,
   "metadata": {},
   "outputs": [
    {
     "data": {
      "text/plain": [
       "ShapiroResult(statistic=0.8702831864356995, pvalue=0.017984945327043533)"
      ]
     },
     "execution_count": 194,
     "metadata": {},
     "output_type": "execute_result"
    }
   ],
   "source": [
    "from scipy.stats import shapiro\n",
    "\n",
    "shapiro(girl_data['weight'])"
   ]
  },
  {
   "cell_type": "code",
   "execution_count": 195,
   "metadata": {},
   "outputs": [
    {
     "name": "stderr",
     "output_type": "stream",
     "text": [
      "C:\\Users\\rbtkd\\anaconda3\\lib\\site-packages\\seaborn\\distributions.py:2551: FutureWarning: `distplot` is a deprecated function and will be removed in a future version. Please adapt your code to use either `displot` (a figure-level function with similar flexibility) or `histplot` (an axes-level function for histograms).\n",
      "  warnings.warn(msg, FutureWarning)\n"
     ]
    },
    {
     "data": {
      "text/plain": [
       "<AxesSubplot:xlabel='weight', ylabel='Density'>"
      ]
     },
     "execution_count": 195,
     "metadata": {},
     "output_type": "execute_result"
    },
    {
     "data": {
      "image/png": "[encoded data removed]",
      "text/plain": [
       "<Figure size 432x288 with 1 Axes>"
      ]
     },
     "metadata": {
      "needs_background": "light"
     },
     "output_type": "display_data"
    }
   ],
   "source": [
    "sns.distplot(girl_data.loc[:,'weight'], fit = stats.norm)"
   ]
  },
  {
   "cell_type": "code",
   "execution_count": 209,
   "metadata": {
    "scrolled": true
   },
   "outputs": [
    {
     "name": "stdout",
     "output_type": "stream",
     "text": [
      "WilcoxonResult(statistic=65.5, pvalue=0.39273834228515625)\n",
      "WilcoxonResult(statistic=3.0, pvalue=3.814697265625e-05)\n"
     ]
    }
   ],
   "source": [
    "from scipy.stats import wilcoxon\n",
    "\n",
    "print(wilcoxon(girl_data['weight']-3381))\n",
    "print(wilcoxon(girl_data['weight']-2000))"
   ]
  },
  {
   "cell_type": "markdown",
   "metadata": {},
   "source": [
    "### 독립표본 t검정"
   ]
  },
  {
   "cell_type": "code",
   "execution_count": 217,
   "metadata": {},
   "outputs": [
    {
     "name": "stdout",
     "output_type": "stream",
     "text": [
      "ShapiroResult(statistic=0.9305859208106995, pvalue=0.6003715991973877)\n",
      "ShapiroResult(statistic=0.9557387828826904, pvalue=0.7780438661575317)\n",
      "BartlettResult(statistic=0.8369187644316614, pvalue=0.3602794952403162)\n"
     ]
    }
   ],
   "source": [
    "male = [75, 85, 100, 72.5, 86.5]\n",
    "female = [63.2, 76, 52, 100, 70]\n",
    "print(shapiro(male))\n",
    "print(shapiro(female))\n",
    "print(bartlett(male,female))"
   ]
  },
  {
   "cell_type": "code",
   "execution_count": 218,
   "metadata": {},
   "outputs": [
    {
     "name": "stdout",
     "output_type": "stream",
     "text": [
      "83.8\n",
      "72.24\n",
      "Ttest_indResult(statistic=1.233193127514512, pvalue=0.2525076844853278)\n"
     ]
    }
   ],
   "source": [
    "from scipy.stats import ttest_ind\n",
    "\n",
    "two_samples = stats.ttest_ind(male, female)\n",
    "print(np.mean(male))\n",
    "print(np.mean(female))\n",
    "print(two_samples)"
   ]
  },
  {
   "cell_type": "markdown",
   "metadata": {},
   "source": [
    "### Mann Whitney (독립표본)"
   ]
  },
  {
   "cell_type": "code",
   "execution_count": 225,
   "metadata": {},
   "outputs": [
    {
     "name": "stdout",
     "output_type": "stream",
     "text": [
      "ShapiroResult(statistic=0.7194008231163025, pvalue=0.01511599775403738)\n",
      "ShapiroResult(statistic=0.9341663122177124, pvalue=0.6250438690185547)\n",
      "BartlettResult(statistic=4.874215039584082, pvalue=0.02726083685972358)\n"
     ]
    }
   ],
   "source": [
    "male = [75, 85, 150, 72.5, 86.5]\n",
    "female = [63.2, 76, 52, 60, 62]\n",
    "print(shapiro(male))\n",
    "print(shapiro(female))\n",
    "print(bartlett(male,female))"
   ]
  },
  {
   "cell_type": "code",
   "execution_count": 223,
   "metadata": {},
   "outputs": [
    {
     "name": "stdout",
     "output_type": "stream",
     "text": [
      "85.0\n",
      "62.0\n"
     ]
    },
    {
     "data": {
      "text/plain": [
       "MannwhitneyuResult(statistic=2.0, pvalue=0.01835692818135205)"
      ]
     },
     "execution_count": 223,
     "metadata": {},
     "output_type": "execute_result"
    }
   ],
   "source": [
    "from scipy.stats import mannwhitneyu\n",
    "\n",
    "print(np.percentile(male,50))\n",
    "print(np.percentile(female,50))\n",
    "mannwhitneyu(male, female)"
   ]
  },
  {
   "cell_type": "markdown",
   "metadata": {},
   "source": [
    "### 대응표본 t-검정"
   ]
  },
  {
   "cell_type": "code",
   "execution_count": 235,
   "metadata": {},
   "outputs": [
    {
     "name": "stdout",
     "output_type": "stream",
     "text": [
      "ShapiroResult(statistic=0.9611198306083679, pvalue=0.809967577457428)\n",
      "ShapiroResult(statistic=0.8478229641914368, pvalue=0.0705145075917244)\n"
     ]
    }
   ],
   "source": [
    "baseline = [67.2, 67.4, 71.5, 77.6, 86.0, 89.1, 59.5, 81.9, 105.5]\n",
    "follow_up = [62.4, 64.6, 70.4, 62.6, 80.1, 73.2, 58.2, 71.0, 101.0]\n",
    "print(shapiro(baseline))\n",
    "print(shapiro(follow_up))\n"
   ]
  },
  {
   "cell_type": "code",
   "execution_count": 234,
   "metadata": {},
   "outputs": [
    {
     "name": "stdout",
     "output_type": "stream",
     "text": [
      "78.41111111111111\n",
      "78.1888888888889\n",
      "Ttest_relResult(statistic=1.0, pvalue=0.34659350708733416)\n"
     ]
    }
   ],
   "source": [
    "from scipy.stats import ttest_rel\n",
    "paired_result = stats.ttest_rel(baseline, follow_up)\n",
    "print(np.mean(baseline))\n",
    "print(np.mean(follow_up))\n",
    "print(paired_result)"
   ]
  },
  {
   "cell_type": "markdown",
   "metadata": {},
   "source": [
    "### wilcoxon(대응표본)"
   ]
  },
  {
   "cell_type": "code",
   "execution_count": 236,
   "metadata": {},
   "outputs": [
    {
     "data": {
      "text/plain": [
       "WilcoxonResult(statistic=0.0, pvalue=0.00390625)"
      ]
     },
     "execution_count": 236,
     "metadata": {},
     "output_type": "execute_result"
    }
   ],
   "source": [
    "from scipy.stats import wilcoxon\n",
    "\n",
    "wilcoxon(baseline, y=follow_up)"
   ]
  },
  {
   "cell_type": "markdown",
   "metadata": {},
   "source": [
    "### ANOVA"
   ]
  },
  {
   "cell_type": "code",
   "execution_count": 48,
   "metadata": {},
   "outputs": [
    {
     "name": "stdout",
     "output_type": "stream",
     "text": [
      "   no  method  survey  score\n",
      "0   1       1       1     72\n",
      "1   2       3       1     87\n",
      "2   3       2       1     78\n",
      "3   4       1       1     54\n",
      "4   5       2       0     84\n",
      "80\n",
      "            no     method     survey       score\n",
      "count  80.0000  80.000000  80.000000   80.000000\n",
      "mean   40.5000   1.962500   0.650000   78.212500\n",
      "std    23.2379   0.802587   0.479979   64.886404\n",
      "min     1.0000   1.000000   0.000000   33.000000\n",
      "25%    20.7500   1.000000   0.000000   58.000000\n",
      "50%    40.5000   2.000000   1.000000   65.000000\n",
      "75%    60.2500   3.000000   1.000000   79.500000\n",
      "max    80.0000   3.000000   1.000000  500.000000\n"
     ]
    }
   ],
   "source": [
    "import pandas as pd\n",
    "data = pd.read_csv(\"https://raw.githubusercontent.com/wjddyd66/R/master/Data/three_sample.csv\")\n",
    "print(data.head())\n",
    "print(len(data)) # 80\n",
    "print(data.describe())"
   ]
  },
  {
   "cell_type": "code",
   "execution_count": 49,
   "metadata": {},
   "outputs": [
    {
     "data": {
      "image/png": "[encoded data removed]",
      "text/plain": [
       "<Figure size 1080x432 with 2 Axes>"
      ]
     },
     "metadata": {
      "needs_background": "light"
     },
     "output_type": "display_data"
    }
   ],
   "source": [
    "# 이상치 확인\n",
    "f, ax = plt.subplots(1,2, figsize = (15,6))\n",
    "ax[0].boxplot(data.score)\n",
    "ax[0].set_title('boxplot')\n",
    "ax[1].hist(data.score)\n",
    "ax[1].set_ylim(0,100)\n",
    "ax[1].set_title('histogram')\n",
    "plt.show()"
   ]
  },
  {
   "cell_type": "code",
   "execution_count": 50,
   "metadata": {},
   "outputs": [
    {
     "name": "stdout",
     "output_type": "stream",
     "text": [
      "78\n"
     ]
    },
    {
     "data": {
      "image/png": "[encoded data removed]",
      "text/plain": [
       "<Figure size 432x288 with 1 Axes>"
      ]
     },
     "metadata": {
      "needs_background": "light"
     },
     "output_type": "display_data"
    }
   ],
   "source": [
    "# 이상치 제거 후 정규성 확인\n",
    "data = data.query(\"score <= 100\")\n",
    "print(len(data))\n",
    "plt.hist(data.score)\n",
    "plt.show()"
   ]
  },
  {
   "cell_type": "code",
   "execution_count": 51,
   "metadata": {},
   "outputs": [
    {
     "name": "stdout",
     "output_type": "stream",
     "text": [
      "ShapiroResult(statistic=0.9810646176338196, pvalue=0.2986918091773987)\n"
     ]
    }
   ],
   "source": [
    "from scipy.stats import shapiro \n",
    "print(shapiro(data.score))"
   ]
  },
  {
   "cell_type": "code",
   "execution_count": 55,
   "metadata": {
    "scrolled": false
   },
   "outputs": [],
   "source": []
  },
  {
   "cell_type": "code",
   "execution_count": 56,
   "metadata": {},
   "outputs": [
    {
     "data": {
      "text/plain": [
       "BartlettResult(statistic=3.760993476436484, pvalue=0.15251432724222921)"
      ]
     },
     "execution_count": 56,
     "metadata": {},
     "output_type": "execute_result"
    }
   ],
   "source": [
    "from scipy.stats import bartlett, levene\n",
    "\n",
    "data_method1 = np.array(data[data['method']==1].score)\n",
    "data_method2 = np.array(data[data['method']==2].score)\n",
    "data_method3 = np.array(data[data['method']==3].score)\n",
    "\n",
    "bartlett(data_method1,data_method2,data_method3)"
   ]
  },
  {
   "cell_type": "code",
   "execution_count": 58,
   "metadata": {},
   "outputs": [
    {
     "name": "stdout",
     "output_type": "stream",
     "text": [
      "67.38461538461539\n",
      "68.35714285714286\n",
      "68.875\n"
     ]
    }
   ],
   "source": [
    "print(np.mean(data[data['method']==1].score))\n",
    "print(np.mean(data[data['method']==2].score))\n",
    "print(np.mean(data[data['method']==3].score))"
   ]
  },
  {
   "cell_type": "code",
   "execution_count": 64,
   "metadata": {},
   "outputs": [
    {
     "name": "stdout",
     "output_type": "stream",
     "text": [
      "                     df        sum_sq     mean_sq         F    PR(>F)\n",
      "C(data['method'])   2.0     28.907967   14.453984  0.062312  0.939639\n",
      "Residual           75.0  17397.207418  231.962766       NaN       NaN\n",
      "\n",
      "67.38461538461539\n",
      "68.35714285714286\n",
      "68.875\n"
     ]
    }
   ],
   "source": [
    "from statsmodels.stats.anova import anova_lm\n",
    "from statsmodels.formula.api import ols\n",
    "\n",
    "reg = ols(\"data['score']~ C(data['method'])\",data = data).fit()\n",
    "\n",
    "result = anova_lm(reg)\n",
    "print(result)\n",
    "print()\n",
    "print(np.mean(data[data['method']==1].score))\n",
    "print(np.mean(data[data['method']==2].score))\n",
    "print(np.mean(data[data['method']==3].score))"
   ]
  },
  {
   "cell_type": "code",
   "execution_count": 77,
   "metadata": {},
   "outputs": [
    {
     "data": {
      "text/html": [
       "<div>\n",
       "<style scoped>\n",
       "    .dataframe tbody tr th:only-of-type {\n",
       "        vertical-align: middle;\n",
       "    }\n",
       "\n",
       "    .dataframe tbody tr th {\n",
       "        vertical-align: top;\n",
       "    }\n",
       "\n",
       "    .dataframe thead th {\n",
       "        text-align: right;\n",
       "    }\n",
       "</style>\n",
       "<table border=\"1\" class=\"dataframe\">\n",
       "  <thead>\n",
       "    <tr style=\"text-align: right;\">\n",
       "      <th></th>\n",
       "      <th>cyl</th>\n",
       "      <th>am</th>\n",
       "      <th>mpg</th>\n",
       "    </tr>\n",
       "  </thead>\n",
       "  <tbody>\n",
       "    <tr>\n",
       "      <th>Mazda RX4</th>\n",
       "      <td>6</td>\n",
       "      <td>1</td>\n",
       "      <td>21.0</td>\n",
       "    </tr>\n",
       "    <tr>\n",
       "      <th>Mazda RX4 Wag</th>\n",
       "      <td>6</td>\n",
       "      <td>1</td>\n",
       "      <td>21.0</td>\n",
       "    </tr>\n",
       "    <tr>\n",
       "      <th>Datsun 710</th>\n",
       "      <td>4</td>\n",
       "      <td>1</td>\n",
       "      <td>22.8</td>\n",
       "    </tr>\n",
       "    <tr>\n",
       "      <th>Hornet 4 Drive</th>\n",
       "      <td>6</td>\n",
       "      <td>0</td>\n",
       "      <td>21.4</td>\n",
       "    </tr>\n",
       "    <tr>\n",
       "      <th>Hornet Sportabout</th>\n",
       "      <td>8</td>\n",
       "      <td>0</td>\n",
       "      <td>18.7</td>\n",
       "    </tr>\n",
       "  </tbody>\n",
       "</table>\n",
       "</div>"
      ],
      "text/plain": [
       "                   cyl  am   mpg\n",
       "Mazda RX4            6   1  21.0\n",
       "Mazda RX4 Wag        6   1  21.0\n",
       "Datsun 710           4   1  22.8\n",
       "Hornet 4 Drive       6   0  21.4\n",
       "Hornet Sportabout    8   0  18.7"
      ]
     },
     "execution_count": 77,
     "metadata": {},
     "output_type": "execute_result"
    }
   ],
   "source": [
    "mtcars = pd.read_csv('https://t1.daumcdn.net/cfile/blog/99F8633E5E8ECB130D?download' ,index_col=0)\n",
    "\n",
    "mtcars_sam = mtcars.loc[:,['cyl','am','mpg']]\n",
    "mtcars_sam.head()"
   ]
  },
  {
   "cell_type": "code",
   "execution_count": 79,
   "metadata": {},
   "outputs": [
    {
     "name": "stdout",
     "output_type": "stream",
     "text": [
      "                df      sum_sq     mean_sq          F        PR(>F)\n",
      "C(cyl)         2.0  824.784590  412.392295  44.851657  3.725274e-09\n",
      "C(am)          1.0   36.766919   36.766919   3.998759  5.608373e-02\n",
      "C(cyl):C(am)   2.0   25.436511   12.718256   1.383233  2.686140e-01\n",
      "Residual      26.0  239.059167    9.194583        NaN           NaN\n"
     ]
    }
   ],
   "source": [
    "#이원배치 분산분석\n",
    "from statsmodels.stats.anova import anova_lm\n",
    "from statsmodels.formula.api import ols\n",
    "\n",
    "formula = 'mpg~ C(cyl) + C(am) + C(cyl):C(am)'\n",
    "lm = ols(formula, data=mtcars_sam).fit()\n",
    "print(anova_lm(lm))"
   ]
  },
  {
   "cell_type": "code",
   "execution_count": 98,
   "metadata": {},
   "outputs": [
    {
     "name": "stdout",
     "output_type": "stream",
     "text": [
      "    value  treatment\n",
      "0     243          1\n",
      "1     251          1\n",
      "2     275          1\n",
      "3     291          1\n",
      "4     347          1\n",
      "5     354          1\n",
      "6     380          1\n",
      "7     392          1\n",
      "8     206          2\n",
      "9     210          2\n",
      "10    226          2\n",
      "11    249          2\n",
      "12    255          2\n",
      "13    273          2\n",
      "14    285          2\n",
      "15    295          2\n",
      "16    309          2\n",
      "17    241          3\n",
      "18    258          3\n",
      "19    270          3\n",
      "20    293          3\n",
      "21    328          3\n",
      "\n",
      " Multiple Comparison of Means - Tukey HSD, FWER=0.05  \n",
      "======================================================\n",
      "group1 group2 meandiff p-adj    lower    upper  reject\n",
      "------------------------------------------------------\n",
      "     1      2 -60.1806 0.0354 -116.6056 -3.7555   True\n",
      "     1      3  -38.625 0.3217 -104.8246 27.5746  False\n",
      "     2      3  21.5556 0.6706  -43.2141 86.3252  False\n",
      "------------------------------------------------------\n"
     ]
    }
   ],
   "source": [
    "# 사후검정\n",
    "\n",
    "url = 'https://raw.githubusercontent.com/thomas-haslwanter/statsintro_python/master/ipynb/Data/data_altman/altman_910.txt'\n",
    "data = pd.read_csv(url, header=None)\n",
    "\n",
    "df = pd.DataFrame(data)\n",
    "df.columns = ['value', 'treatment']\n",
    "print(df)\n",
    "print()\n",
    "\n",
    "from statsmodels.stats.multicomp import pairwise_tukeyhsd\n",
    "\n",
    "posthoc = pairwise_tukeyhsd(df['value'], df['treatment'], alpha=0.05)\n",
    "\n",
    "print(posthoc)\n",
    "\n"
   ]
  },
  {
   "cell_type": "code",
   "execution_count": 103,
   "metadata": {},
   "outputs": [
    {
     "name": "stdout",
     "output_type": "stream",
     "text": [
      "0.21744829320424017\n"
     ]
    }
   ],
   "source": [
    "# 이항검정\n",
    "\n",
    "from scipy.stats import binom_test\n",
    "pval = binom_test(520, n=1000, p=0.5)\n",
    "print(pval)"
   ]
  },
  {
   "cell_type": "code",
   "execution_count": 107,
   "metadata": {},
   "outputs": [
    {
     "name": "stdout",
     "output_type": "stream",
     "text": [
      "      0  1\n",
      "0   243  1\n",
      "1   251  1\n",
      "2   275  1\n",
      "3   291  1\n",
      "4   347  1\n",
      "5   354  1\n",
      "6   380  1\n",
      "7   392  1\n",
      "8   206  2\n",
      "9   210  2\n",
      "10  226  2\n",
      "11  249  2\n",
      "12  255  2\n",
      "13  273  2\n",
      "14  285  2\n",
      "15  295  2\n",
      "16  309  2\n",
      "17  241  3\n",
      "18  258  3\n",
      "19  270  3\n",
      "20  293  3\n",
      "21  328  3\n",
      "\n",
      "122.0\n",
      "104.0\n",
      "122.0\n"
     ]
    },
    {
     "data": {
      "text/plain": [
       "KruskalResult(statistic=148.8656364213711, pvalue=4.723215691129366e-33)"
      ]
     },
     "execution_count": 107,
     "metadata": {},
     "output_type": "execute_result"
    }
   ],
   "source": [
    "# 비모수검정 (3개이상 변수)\n",
    "from scipy.stats import kruskal\n",
    "url = 'https://raw.githubusercontent.com/thomas-haslwanter/statsintro_python/master/ipynb/Data/data_altman/altman_910.txt'\n",
    "data = pd.read_csv(url, delimiter=',', header=None)\n",
    "\n",
    "print(data)\n",
    "print()\n",
    "# Sort them into groups, according to column 1\n",
    "group1 = data[data[1]==1]\n",
    "group2 = data[data[1]==2]\n",
    "group3 = data[data[1]==3]\n",
    "\n",
    "print(np.median(group1))\n",
    "print(np.median(group2))\n",
    "print(np.median(group3))\n",
    "\n",
    "kruskal(group1, group2, group3)\n",
    "\n"
   ]
  }
 ],
 "metadata": {
  "kernelspec": {
   "display_name": "Python 3",
   "language": "python",
   "name": "python3"
  },
  "language_info": {
   "codemirror_mode": {
    "name": "ipython",
    "version": 3
   },
   "file_extension": ".py",
   "mimetype": "text/x-python",
   "name": "python",
   "nbconvert_exporter": "python",
   "pygments_lexer": "ipython3",
   "version": "3.8.5"
  }
 },
 "nbformat": 4,
 "nbformat_minor": 4
}
